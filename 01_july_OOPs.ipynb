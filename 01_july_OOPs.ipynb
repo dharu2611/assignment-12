{
  "nbformat": 4,
  "nbformat_minor": 0,
  "metadata": {
    "colab": {
      "provenance": []
    },
    "kernelspec": {
      "name": "python3",
      "display_name": "Python 3"
    },
    "language_info": {
      "name": "python"
    }
  },
  "cells": [
    {
      "cell_type": "markdown",
      "source": [
        "**1.What is the primary goal of Object-Oriented Programming (OOP)?**"
      ],
      "metadata": {
        "id": "RLuwZyzz0Ku2"
      }
    },
    {
      "cell_type": "markdown",
      "source": [
        "The primary goal of using Object-Oriented programming is that it promotes code reusability, maintainability, scalability, and extensibility, making it easier to develop and maintain complex software systems."
      ],
      "metadata": {
        "id": "n5yjul3t2WjW"
      }
    },
    {
      "cell_type": "markdown",
      "source": [
        "**2.What is an object in Python?**"
      ],
      "metadata": {
        "id": "fyAjaY2n2n3M"
      }
    },
    {
      "cell_type": "markdown",
      "source": [
        "An object is the instance of a class.A class is a blueprint and an object is actually the copy of the class with actual values of it.The implementation of a class is class."
      ],
      "metadata": {
        "id": "7YkU0EKp3CJ2"
      }
    },
    {
      "cell_type": "markdown",
      "source": [
        "**3.What is a class in Python?**"
      ],
      "metadata": {
        "id": "66ITFOIm4iVE"
      }
    },
    {
      "cell_type": "markdown",
      "source": [
        "class is the blueprint of an object from which different types of objects are created."
      ],
      "metadata": {
        "id": "G1xeWwcI4qXS"
      }
    },
    {
      "cell_type": "markdown",
      "source": [
        "**4.What are attributes and methods in a class?**"
      ],
      "metadata": {
        "id": "9ii6DjIU5Ds3"
      }
    },
    {
      "cell_type": "markdown",
      "source": [
        "Attributes and Methods work together. Attributes store data that is related to an object whereas methods define operations that is performed by the object.for instance take an example of a car. if Car is a mobile that we create, the brand name, model,price are the attributes and the methods are calling operation, sms operations are methods."
      ],
      "metadata": {
        "id": "HDLCQicR5O3C"
      }
    },
    {
      "cell_type": "markdown",
      "source": [
        "**5.What is the difference between class variables and instance variables in Python?**"
      ],
      "metadata": {
        "id": "HyU13SZj6iM8"
      }
    },
    {
      "cell_type": "markdown",
      "source": [
        "Class variable - Class variables are defined within class that is outside the methods, and are shared by all the instance of the class.\n",
        "Instance variable - Instance variables are defined within the __init__ method of the class."
      ],
      "metadata": {
        "id": "6m-vJje06o8t"
      }
    },
    {
      "cell_type": "markdown",
      "source": [
        "**6.What is the purpose of the self parameter in Python class methods?**"
      ],
      "metadata": {
        "id": "rEBmi3ax8ZA6"
      }
    },
    {
      "cell_type": "markdown",
      "source": [
        "The self parameter is defined in the __init__ method of a class.the self parameter is used as a reference that allows you to access the attributes and methods inside the class."
      ],
      "metadata": {
        "id": "R1h9F57e8jle"
      }
    },
    {
      "cell_type": "markdown",
      "source": [
        "7.For a library management system, you have to design the \"Book\" class with OOP\n",
        "principles in mind. The “Book” class will have following attributes:"
      ],
      "metadata": {
        "id": "SiSii9XnKlDS"
      }
    },
    {
      "cell_type": "markdown",
      "source": [
        "a. title: Represents the title of the book.\n",
        "b. author: Represents the author(s) of the book.\n",
        "c. isbn: Represents the ISBN (International Standard Book Number) of the book.\n",
        "d. publication_year: Represents the year of publication of the book.\n",
        "e. available_copies: Represents the number of copies available for checkout."
      ],
      "metadata": {
        "id": "zMlgQsrnK6LA"
      }
    },
    {
      "cell_type": "code",
      "source": [
        "class book:\n",
        "  def __init__(self,title,author,isbn,available_copies):\n",
        "    self.title=title\n",
        "    self.author=author\n",
        "    self.isbn=isbn\n",
        "    self.available_copies=available_copies\n",
        "\n",
        "  def check_out(self,check_out):\n",
        "    check_out=self.available_copies-check_out\n",
        "    print(check_out)\n",
        "\n",
        "  def return_book(self,return_book):\n",
        "    return_book=self.available_copies+return_book\n",
        "    print(return_book)\n",
        "\n",
        "  def display_book_info(self):\n",
        "    print(f\"{self.title} which is written by {self.author} {self.isbn} has {self.available_copies} number of books\")\n",
        "\n",
        "book1=book(\"Half girlfriend\",\"chetan bhagat\",\"156789\",200)\n",
        "book1.check_out(3)\n",
        "book1.display_book_info()"
      ],
      "metadata": {
        "colab": {
          "base_uri": "https://localhost:8080/"
        },
        "id": "pus_gpbJLtDA",
        "outputId": "e428687b-6fcb-47c2-e8ca-6a0dc1d9b348"
      },
      "execution_count": null,
      "outputs": [
        {
          "output_type": "stream",
          "name": "stdout",
          "text": [
            "197\n",
            "Half girlfriend which is written by chetan bhagat 156789 has 200 number of books\n"
          ]
        }
      ]
    },
    {
      "cell_type": "markdown",
      "source": [
        "8.For a ticket booking system, you have to design the \"Ticket\" class with OOP\n",
        "principles in mind. The “Ticket” class should have the following attributes:"
      ],
      "metadata": {
        "id": "r6ZC-sVVVbx1"
      }
    },
    {
      "cell_type": "markdown",
      "source": [
        "a. ticket_id: Represents the unique identifier for the ticket.\n",
        "b. event_name: Represents the name of the event.\n",
        "c. event_date: Represents the date of the event.\n",
        "d. venue: Represents the venue of the event.\n",
        "e. seat_number: Represents the seat number associated with the ticket.\n",
        "f. price: Represents the price of the ticket.\n",
        "g. is_reserved: Represents the reservation status of the ticket.\n",
        "\n",
        "The class also includes the following methods:\n",
        "a. reserve_ticket(self): Marks the ticket as reserved if it is not already reserved.\n",
        "b. cancel_reservation(self): Cancels the reservation of the ticket if it is already\n",
        "reserved.\n",
        "c. display_ticket_info(self): Displays the information about the ticket, including its\n",
        "attributes and reservation status."
      ],
      "metadata": {
        "id": "zjAptA9wVhRY"
      }
    },
    {
      "cell_type": "code",
      "source": [
        "class ticket:\n",
        "  def __init__(self,ticket_id,event_name,event_date,venue,seat_number,price,is_reserved):\n",
        "    self.ticket_id=ticket_id\n",
        "    self.event_name=event_name\n",
        "    self.event_date=event_date\n",
        "    self.venue=venue\n",
        "    self.seat_number=seat_number\n",
        "    self.price=price\n",
        "    self.is_reserved=is_reserved\n",
        "\n",
        "  def reserve_ticket(self):\n",
        "    if self.is_reserved==False:\n",
        "      print(f\"{self.ticket_id} has been reserved\")\n",
        "    else:\n",
        "      print(f\"{self.ticket_id} has not been reserved\")\n",
        "\n",
        "  def cancel_reservation(self):\n",
        "    if self.is_reserved==True:\n",
        "      print(f\"{self.ticket_id} has been cancelled as it has been already reserved\")\n",
        "\n",
        "  def display_ticket_info(self):\n",
        "    print(f\"the ticket {self.ticket_id} for the {self.event_name} on {self.event_date} with the seat number {self.seat_number} has been reserved.\")\n",
        "\n",
        "ticket1=ticket(\"dh123\",\"exhibition\",\"jan 12\",\"nehru mahal\",\"s35\",2000,False)\n",
        "ticket1.reserve_ticket()\n",
        "ticket1.display_ticket_info()"
      ],
      "metadata": {
        "colab": {
          "base_uri": "https://localhost:8080/"
        },
        "id": "tSAQgQDgWKVV",
        "outputId": "b899666e-94da-4dc7-95be-0b03a1ca7de6"
      },
      "execution_count": null,
      "outputs": [
        {
          "output_type": "stream",
          "name": "stdout",
          "text": [
            "dh123 has been reserved\n",
            "the ticket dh123 for the exhibition on jan 12 with the seat number s35 has been reserved.\n"
          ]
        }
      ]
    },
    {
      "cell_type": "markdown",
      "source": [
        "9.You are creating a shopping cart for an e-commerce website. Using OOP to model\n",
        "the \"ShoppingCart\" functionality the class should contain following attributes and\n",
        "methods:"
      ],
      "metadata": {
        "id": "gCKAvZVJREeo"
      }
    },
    {
      "cell_type": "markdown",
      "source": [
        "a. items: Represents the list of items in the shopping cart.\n",
        "The class also includes the following methods:\n",
        "\n",
        "a. add_item(self, item): Adds an item to the shopping cart by appending it to the\n",
        "list of items.\n",
        "b. remove_item(self, item): Removes an item from the shopping cart if it exists in\n",
        "the list.\n",
        "c. view_cart(self): Displays the items currently present in the shopping cart.\n",
        "d. clear_cart(self): Clears all items from the shopping cart by reassigning an\n",
        "empty list to the items attribute."
      ],
      "metadata": {
        "id": "8xbxlK_5RKzN"
      }
    },
    {
      "cell_type": "code",
      "source": [
        "class Shopping_cart:\n",
        "  def __init__ (self,items):\n",
        "    self.items=items\n",
        "\n",
        "  def add_items(self,new_item):\n",
        "    self.items=self.items+new_item\n",
        "    print(f\"Newly added item is {new_item}\")\n",
        "\n",
        "  def remove_item(self,removed_item):\n",
        "    self.items=self.items-removed_item\n",
        "    print(f\"The removed item is {removed_item}\")\n",
        "\n",
        "  def view_cart(self):\n",
        "    print(f\"The available items in the shopping cart are {self.items}\")\n",
        "\n",
        "  def clear_cart(self):\n",
        "    self.items=[]\n",
        "    print(f\"Items in the cart are cleared {self.items}\")\n",
        "\n",
        "\n",
        "cart1=Shopping_cart([\"biscuits\",\"soap\",\"bottles\"])\n",
        "cart1.add_items([\"notes\"])\n",
        "cart1.view_cart()\n",
        "cart1.clear_cart()\n"
      ],
      "metadata": {
        "colab": {
          "base_uri": "https://localhost:8080/"
        },
        "id": "bFgkXlg3hjD5",
        "outputId": "1889f169-2d12-4f0d-9315-1cbcd8774e30"
      },
      "execution_count": null,
      "outputs": [
        {
          "output_type": "stream",
          "name": "stdout",
          "text": [
            "Newly added item is ['notes']\n",
            "The available items in the shopping cart are ['biscuits', 'soap', 'bottles', 'notes']\n",
            "Items in the cart are cleared []\n"
          ]
        }
      ]
    },
    {
      "cell_type": "markdown",
      "source": [
        "10.Imagine a school management system. You have to design the \"Student\" class using\n",
        "OOP concepts.The “Student” class has the following attributes:"
      ],
      "metadata": {
        "id": "9qTZaJTpiCTL"
      }
    },
    {
      "cell_type": "markdown",
      "source": [
        "a. name: Represents the name of the student.\n",
        "b. age: Represents the age of the student.\n",
        "c. grade: Represents the grade or class of the student.\n",
        "d. student_id: Represents the unique identifier for the student.\n",
        "e. attendance: Represents the attendance record of the student.\n",
        "The class should also include the following methods:\n",
        "a. update_attendance(self, date, status): Updates the attendance record of the\n",
        "student for a given date with the provided status (e.g., present or absent).\n",
        "b. get_attendance(self): Returns the attendance record of the student.\n",
        "c. get_average_attendance(self): Calculates and returns the average\n",
        "attendance percentage of the student based on their attendance record."
      ],
      "metadata": {
        "id": "jqu1uSbxieDd"
      }
    },
    {
      "cell_type": "code",
      "source": [
        "class Student:\n",
        "  def __init__(self,name,age,grade,student_id,attendance):\n",
        "    self.name=name\n",
        "    self.age=age\n",
        "    self.grade=grade\n",
        "    self.student_id=student_id\n",
        "    self.attendance=attendance\n",
        "\n",
        "  def update_attendance(self,date,status):\n",
        "    #status=int(input(\"enter the status present/absent:\"))\n",
        "    if status=='present':\n",
        "      print(f\"{self.name} is {status} on {date}\")\n",
        "    elif status=='absent':\n",
        "      print(f\"{self.name} is {status} on {date}\")\n",
        "    else:\n",
        "      pass\n",
        "\n",
        "  def get_attendance(self):\n",
        "    print(f\"The attendance record of {self.name} is {self.attendance}\")\n",
        "\n",
        "  def get_average_attendance(self):\n",
        "    average=self.attendance/100\n",
        "    print(f\"The average attendance of {self.name} is {average}\")\n",
        "\n",
        "student1=Student(\"riya\",24,\"A\",\"stu12\",92)\n",
        "student1.update_attendance(\"27-11-23\",\"present\")\n",
        "student1.get_attendance()\n",
        "student1.get_average_attendance()"
      ],
      "metadata": {
        "id": "abw6puuoisFp",
        "colab": {
          "base_uri": "https://localhost:8080/"
        },
        "outputId": "f6811db9-44fb-42dd-b7fb-7aebf910f4cf"
      },
      "execution_count": 1,
      "outputs": [
        {
          "output_type": "stream",
          "name": "stdout",
          "text": [
            "riya is present on 27-11-23\n",
            "The attendance record of riya is 92\n",
            "The average attendance of riya is 0.92\n"
          ]
        }
      ]
    }
  ]
}